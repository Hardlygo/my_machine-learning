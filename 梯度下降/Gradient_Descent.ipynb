{
 "cells": [
  {
   "cell_type": "markdown",
   "metadata": {},
   "source": [
    " 梯度下降法求局部最小值 原理\n",
    "\n",
    " ### 1.梯度\n",
    "  在微积分里面，对多元函数的参数求∂偏导数，把求得的各个参数的偏导数以向量的形式写出来，就是梯度。比如函数f(x,y), 分别对x,y求偏导数，求得的梯度向量就是(∂f/∂x, ∂f/∂y)T,简称grad f(x,y)或者▽f(x,y)。对于在点(x0,y0)的具体梯度向量就是(∂f/∂x0, ∂f/∂y0)T.或者▽f(x0,y0)，如果是3个参数的向量梯度，就是(∂f/∂x, ∂f/∂y，∂f/∂z)T,以此类推。\n",
    " \n",
    "  那么这个梯度向量求出来有什么意义呢？他的意义从几何意义上讲，就是函数变化增加最快的地方。具体来说，对于函数f(x,y),在点(x0,y0)，沿着梯度向量的方向就是(∂f/∂x0, ∂f/∂y0)T的方向是f(x,y)增加最快的地方。或者说，沿着梯度向量的方向，更加容易找到函数的最大值。反过来说，沿着梯度向量相反的方向，也就是 -(∂f/∂x0, ∂f/∂y0)T的方向，梯度减少最快，也就是更加容易找到函数的最小值。\n",
    " \n",
    " ### 2.梯度下降与梯度上升\n",
    " 在机器学习算法中，在最小化损失函数时，可以通过梯度下降法来一步步的迭代求解，得到最小化的损失函数，和模型参数值。反过来，如果我们需要求解损失函数的最大值，这时就需要用梯度上升法来迭代了。\n",
    " \n",
    " 梯度下降法和梯度上升法是可以互相转化的。比如我们需要求解损失函数f(θ)的最小值，这时我们需要用梯度下降法来迭代求解。但是实际上，我们可以反过来求解损失函数 -f(θ)的最大值，这时梯度上升法就派上用场了。\n",
    " \n",
    "  例1，使用梯度下降法求得 $$f(x)=x^2 $$ 最小值\n",
    " 梯度下降的公式为： $$ x1=x0-a{f}'(x0) $$ 使得$x1$的值逐渐下降\n"
   ]
  },
  {
   "cell_type": "code",
   "execution_count": 1,
   "metadata": {},
   "outputs": [
    {
     "name": "stdout",
     "output_type": "stream",
     "text": [
      "1.26000000000000 1.58760000000000\n",
      "0.756000000000000 0.571536000000000\n",
      "0.453600000000000 0.205752960000000\n",
      "0.272160000000000 0.0740710656000000\n",
      "0.163296000000000 0.0266655836160000\n",
      "0.0979776000000000 0.00959961010176000\n",
      "0.0587865600000000 0.00345585963663360\n",
      "0.0352719360000000 0.00124410946918810\n",
      "0.0211631616000000 0.000447879408907714\n",
      "0.0126978969600000 0.000161236587206777\n",
      "0.00761873817600000 5.80451713944398e-5\n",
      "0.00457124290560000 2.08962617019983e-5\n",
      "0.00274274574336000 7.52265421271939e-6\n"
     ]
    }
   ],
   "source": [
    "import numpy as np\n",
    "import sympy as sp\n",
    "\n",
    "#定义函数\n",
    "def fun_x2(x):\n",
    "    return x**2\n",
    "\n",
    "#求函数的导数\n",
    "def fun_dy(x,x_value):\n",
    "    m=sp.diff(fun_x2(x),x)\n",
    "    return m.subs(x,x_value)#表示将x = 2，带入导函数中\n",
    "#迭代梯度下降\n",
    "x=sp.symbols('x')\n",
    "#学习率\n",
    "a=0.2\n",
    "#函数初始值\n",
    "x_val=2.1\n",
    "#定义函数收敛的极小值\n",
    "min_val=1E-5\n",
    "#迭代\n",
    "while True:\n",
    "    #公式\n",
    "    x_val=x_val-a*fun_dy(x,x_val)\n",
    "    y_val=fun_x2(x_val)\n",
    "    print(x_val,y_val)\n",
    "    #若函数值已经收敛到可接受的最小值，停止\n",
    "    if y_val<min_val:\n",
    "        break"
   ]
  },
  {
   "cell_type": "markdown",
   "metadata": {},
   "source": [
    "例二 用梯度下降法求 $$f(x,y)=x^2+y^2 $$的极小值"
   ]
  },
  {
   "cell_type": "code",
   "execution_count": 6,
   "metadata": {},
   "outputs": [
    {
     "name": "stdout",
     "output_type": "stream",
     "text": [
      "11\n"
     ]
    }
   ],
   "source": [
    "import numpy as np\n",
    "import sympy as sp\n",
    "#定义函数\n",
    "def fun_xy2(x,y):\n",
    "    return x**2+y**2\n",
    "#求函数的偏导数\n",
    "def fun_dy(x,y,x_val,y_val):\n",
    "    dx=sp.diff(fun_xy2(x,y),x)\n",
    "    dy=sp.diff(fun_xy2(x,y),y)\n",
    "    #通过求偏导，并把具体的点代入取得偏导数的值\n",
    "    x=dx.subs(x,x_val)\n",
    "    y=dy.subs(y,y_val)\n",
    "\n",
    "    return np.array([x,y])\n",
    "#定义学习率\n",
    "a=0.2\n",
    "#定义函数收敛的极限值\n",
    "min_val=1E-5\n",
    "\n",
    "x=sp.symbols('x')\n",
    "y=sp.symbols('y')\n",
    "#初始值\n",
    "v0=np.array([1,1])\n",
    "#记录循环次数\n",
    "count=0\n",
    "while True:\n",
    "    #梯度下降\n",
    "    v0=v0-a*fun_dy(x,y,v0[0],v0[1])\n",
    "    #函数收敛到目标值\n",
    "    if fun_xy2(v0[0],v0[1])<min_val:\n",
    "         break\n",
    "    else:\n",
    "         count+=1\n",
    "print(count)\n",
    "\n"
   ]
  },
  {
   "cell_type": "markdown",
   "metadata": {},
   "source": [
    "下面用梯度下降求目标函数的未知数如$$ f(t)=at+b$$ 实际问题都是一直$t$和$f(t)$的值，需要确定$a$,$b$的值，条件是使得损失函数最小，即由$a$和$b$确定的函数的值与已知的$f(t)$最接近，而求$a$,$b$的值的方法就是用梯度下降，每迭代一次都由偏导数求得一个新的$a$和$b$从而使这两者确定的函数更接近与目标函数值$f(t)$,最接近的函数的$a$,$b$就是所要求的\n",
    "损失函数为：$$f(\\theta)=\\frac{1}{N}\\sum_{i=1}^N (f(t^{(i)})-y^{(i)})^2$$"
   ]
  },
  {
   "cell_type": "code",
   "execution_count": 2,
   "metadata": {
    "tags": []
   },
   "outputs": [
    {
     "name": "stdout",
     "output_type": "stream",
     "text": [
      "[[ 0.   1.   2.   3.   4.   5.   6. ]\n",
      " [27.  26.8 26.5 26.3 26.1 25.7 25.3]]\n",
      "迭代129次\n",
      "a=-0.247029367587806\n",
      "b=26.9498516371750\n",
      "损失函数值为0.00995506455311411\n"
     ]
    }
   ],
   "source": [
    "import numpy as np\n",
    "import sympy as sp\n",
    "\n",
    "#定义损失函数\n",
    "def fun_loss(data,a,b):\n",
    "    exp=\"\"\n",
    "    for i,item in enumerate(data[0]):\n",
    "        exp+=\"((\"+str(data[0][i])+\"*a+b)-\"+str(data[1][i])+\")**2\"\n",
    "        if i!=len(data[0])-1:\n",
    "            exp+=\"+\"\n",
    "    \n",
    "    return eval(exp)\n",
    "#定义数据集\n",
    "data=np.arange(0,14,dtype=float).reshape((2,7))\n",
    "data[0]=np.arange(0,7)\n",
    "data[1]=[27,26.8,26.5,26.3,26.1,25.7,25.3]\n",
    "print(data)\n",
    "#符号化a b\n",
    "a=sp.symbols(\"a\")\n",
    "b=sp.symbols(\"b\")\n",
    "#定义学习步长\n",
    "alpha=0.01\n",
    "#a b 的初始值\n",
    "currenta=0.1\n",
    "currentb=0.1\n",
    "#收敛值\n",
    "mse_min=0.01\n",
    "\n",
    "mse_evalf=fun_loss(data,a,b)\n",
    "\n",
    "count=0\n",
    "\n",
    "while True:\n",
    "    #计算方差\n",
    "    nowmse=mse_evalf.evalf(subs={a:currenta,b:currentb})/len(data[0])\n",
    "    #收敛至目标值\n",
    "    if nowmse<mse_min:\n",
    "        print(\"迭代%s次\"%count)\n",
    "        print(\"a=%s\"%currenta)\n",
    "        print(\"b=%s\"%currentb)\n",
    "        print(\"损失函数值为%s\"%nowmse)\n",
    "        break\n",
    "    if count>200:\n",
    "        print(\"迭代次数太多了，跳出了循环\")\n",
    "        print(\"迭代%s次\"%count)\n",
    "        print(\"a=%s\"%currenta)\n",
    "        print(\"b=%s\"%currentb)\n",
    "        print(\"损失函数值为%s\"%nowmse)\n",
    "        break\n",
    "    count+=1\n",
    "    #对 a b 求偏导数，做梯度下降\n",
    "    da=sp.diff(fun_loss(data,a,b),a)\n",
    "    tempe_a=currenta-alpha*da.subs({a:currenta,b:currentb})\n",
    "\n",
    "    db=sp.diff(fun_loss(data,a,b),b)\n",
    "    tempe_b=currentb-alpha*db.subs({a:currenta,b:currentb})\n",
    "    #每个分量沿着梯度下降方向收敛，则总的方向就是沿着梯度下降方向收敛（即损失函数变得最小，至少是局部最小）\n",
    "    currenta=tempe_a\n",
    "    currentb=tempe_b\n"
   ]
  },
  {
   "cell_type": "markdown",
   "metadata": {},
   "source": [
    "### 梯度下降的步骤\n",
    "0. 确定迭代变量$x1,y1,w1$的初始值，确定学习率，确定收敛最小值\n",
    "1. 确定目标函数（损失函数）\n",
    "2. 对目标函数偏导数（对某一个变量求偏导数），可以求得多个偏导数（变量个数个偏导数）\n",
    "3. $x1=x0-a{f}'(x0)$ 每次迭代对自变量往函数增长得最快的反方向走a个步长\n",
    "4. 把求得的新的$x1,y1,w1$等带入到损失函数中去，并判断损失函数是否收敛到目标值，否则继续迭代\n"
   ]
  },
  {
   "cell_type": "markdown",
   "metadata": {},
   "source": [
    "##### 把数据集和预测函数绘制出来"
   ]
  },
  {
   "cell_type": "code",
   "execution_count": 15,
   "metadata": {},
   "outputs": [
    {
     "data": {
      "image/png": "[encoded data removed]",
      "text/plain": [
       "<Figure size 400x320 with 1 Axes>"
      ]
     },
     "metadata": {
      "needs_background": "light"
     },
     "output_type": "display_data"
    }
   ],
   "source": [
    "import numpy as np\n",
    "from matplotlib import pyplot as plt\n",
    "import matplotlib.font_manager as fm\n",
    "#画图函数封装\n",
    "def plot(ax,data1,data2,param_dict,type):\n",
    "    if type==0:\n",
    "        ax.scatter(data1,data2,**param_dict)\n",
    "    else:\n",
    "        ax.plot(data1,data2,**param_dict)\n",
    "#散点图绘制      \n",
    "def draw_scatter(ax,x,y):\n",
    "    plot(ax,x,y,{'color':'b','label':'刀具磨损散点图'},0)\n",
    "\n",
    "def fun_predict(x):\n",
    "    y=-0.2474987*x+26.9516377\n",
    "    return (x,y)\n",
    "\n",
    "# fig,ax=plt.subplots(1,1)\n",
    "# 使用my_font存出一个加载的中文字体\n",
    "my_font = fm.FontProperties(fname='C:\\Windows\\Fonts\\msyh.ttc')\n",
    "fig=plt.figure(figsize=(5,4),dpi=80)\n",
    "\n",
    "#数据集\n",
    "data=np.arange(0,14,dtype=float).reshape((2,7))\n",
    "data[0]=np.arange(0,7)\n",
    "data[1]=[27,26.8,26.5,26.3,26.1,25.7,25.3]\n",
    "\n",
    "draw_scatter(plt,data[0],data[1])\n",
    "\n",
    "x1,y1=fun_predict(data[0])\n",
    "plot(plt,x1,y1,{'color':'m','label':\"预测模型方程\"},1)\n",
    "#增加图例\n",
    "plt.legend(loc=1,prop=my_font)\n",
    "plt.show()"
   ]
  },
  {
   "cell_type": "markdown",
   "metadata": {},
   "source": [
    "用矩阵的方式进行梯度下降，有于预测模型为$$ f(t)=at+b$$\n",
    "化为矩阵方式变\n",
    "$ X=\\begin{matrix}\n",
    "x0 \\ \\ x1 \\\\\n",
    "\\left[\\begin{array}{rr}\n",
    "1 &0 \\\\ \n",
    "1 &1 \\\\ \n",
    "1 &2 \\\\ \n",
    "1 &3 \\\\ \n",
    "1 &4 \\\\ \n",
    "1 &5 \\\\ \n",
    "1 &6 \\\\ \n",
    "\\end{array}\\right] &\n",
    "\\end{matrix} W=\\begin{matrix}\n",
    "\\left[\\begin{array}{rr}\n",
    "w_{0} \\\\ \n",
    "w_{1}\n",
    "\\end{array}\\right] &\n",
    "\\end{matrix}Y=\\begin{matrix}\n",
    "\\left[\\begin{array}{rr}\n",
    "0 \\\\ \n",
    "1\\\\\n",
    "2 \\\\ \n",
    "3\\\\\n",
    "4 \\\\ \n",
    "5\\\\\n",
    "6 \\\\ \n",
    "\\end{array}\\right] &\n",
    "\\end{matrix}\n",
    "$ \n",
    "\n",
    "预测函数定义为:$$ h_{w}(x)=w_{0}x_{0}+w_{1}x_{1}$$预测函数添加$x_{0}$主要是为了矩阵计算方便(这样才能使得每个分量化为$ f(x)=w_{1}x+w_{0}$形式)，X为样本矩阵，W为参数向量，w(0)、w(1)为x(0)和x(1)的系数（也称为参数或权重），Y为真实样本值的向量。 \n",
    "使用矩阵后，目标函数描述为(用到了矩阵求导)： \n",
    "\n",
    "![损失函数](https://mmbiz.qpic.cn/mmbiz_png/Yz4puXOMpA61CNywibGGNor4OZ7vt0poxEm8BS4968BcmWqeHwF9KvQhOsHIibVfKx9Gib4BB7nSEkmhvvp7fm9qw/640?wx_fmt=png&tp=webp&wxfrom=5&wx_lazy=1&wx_co=1)  \n",
    "\n",
    "目标函数的分母为2*m，分母乘以2纯粹是为了计算方便，目标函数求导时2会被约去。\n",
    "\n",
    "目标函数的导函数为：\n",
    "\n",
    "![损失函数偏导数](https://mmbiz.qpic.cn/mmbiz_png/Yz4puXOMpA61CNywibGGNor4OZ7vt0poxa07rM8DtKwOzZmLAIFwRbic87k81mf7pp4qqictkficUb4icVjdeiaT7HRQ/640?wx_fmt=png&tp=webp&wxfrom=5&wx_lazy=1&wx_co=1)  \n"
   ]
  },
  {
   "cell_type": "markdown",
   "metadata": {},
   "source": [
    "使用矩阵进行梯度下降"
   ]
  },
  {
   "cell_type": "code",
   "execution_count": 41,
   "metadata": {
    "tags": []
   },
   "outputs": [
    {
     "name": "stdout",
     "output_type": "stream",
     "text": [
      "迭代次数：1635\n",
      "均方误差(MSE)：0.009994020615620052\n",
      "预测函数系数a：-0.2240944373480152\n",
      "预测函数截距b：26.852217719030463\n"
     ]
    }
   ],
   "source": [
    "import numpy as np\n",
    "  \n",
    "  \n",
    "# 定义计算梯度的函数\n",
    "def gradientfun(x,w,y):\n",
    "    diff = np.dot(x,w)-y\n",
    "    return (1/m) * np.dot(x.transpose(), diff)\n",
    "  \n",
    "# 计算均方误差函数\n",
    "def mse(x,w,y):\n",
    "    \n",
    "    diff = np.dot(x,w) - y \n",
    "    return (1/(2*m)) * np.dot(diff.transpose(), diff)\n",
    "  \n",
    "  \n",
    "\n",
    "# 定义矩阵X\n",
    "X = np.array([[1,1,1,1,1,1,1],[0,1,2,3,4,5,6]])\n",
    "# 转置矩阵X\n",
    "X = X.transpose()\n",
    "# 定义梯度向量w\n",
    "# 初始化梯度向量w\n",
    "w = np.array([0.1,0.1])\n",
    "# 转置矩阵w（行向量为1行矩阵）\n",
    "w = w.transpose()\n",
    "# 定义向量y\n",
    "y = np.array([27,26.8,26.5,26.3,26.1,25.7,25.3])\n",
    "# 转置矩阵y\n",
    "y = y.transpose()\n",
    "\n",
    "# 定义样本数量\n",
    "m = 7\n",
    "# 学习率\n",
    "alpha = 0.01\n",
    "# 设定均方误差可接受值\n",
    "mse_min = 0.01\n",
    "# 计算梯度\n",
    "gradient = gradientfun(X,w,y)\n",
    "count = 0\n",
    "while True:\n",
    "    # 计算当前预测值与真实值均方误差 \n",
    "    nowmse = mse(X,w,y)\n",
    "    # print(nowmse)\n",
    "    # 若当前均方误差小于可接受均方误差，退出循环\n",
    "    if nowmse < mse_min:\n",
    "        print(\"迭代次数：\" + str(count))\n",
    "        print(\"均方误差(MSE)：\" + str(nowmse))\n",
    "        print(\"预测函数系数a：\" + str(w[1]))\n",
    "        print(\"预测函数截距b：\" + str(w[0]))\n",
    "        break\n",
    "    if count > 2000:\n",
    "        print(count)\n",
    "        break\n",
    "    count = count + 1\n",
    "    # 迭代梯度向量\n",
    "    w = w - alpha * gradient\n",
    "    # 计算梯度\n",
    "    gradient = gradientfun(X,w,y)\n"
   ]
  },
  {
   "cell_type": "markdown",
   "metadata": {},
   "source": [
    "## [参考文献1](https://mp.weixin.qq.com/s/JHp6TGA09Bi7FUUSrz-2iw)\n",
    "## [参考文献2](http://markups.kdanmobile.com/sharings/ee42d0ba-72f6-437c-9c54-ff7472778de6)"
   ]
  },
  {
   "cell_type": "code",
   "execution_count": 14,
   "metadata": {},
   "outputs": [
    {
     "name": "stdout",
     "output_type": "stream",
     "text": [
      "[[27.06785714 -0.275     ]]\n"
     ]
    }
   ],
   "source": [
    "#正规方程求解\n",
    "import numpy as np\n",
    "\n",
    "# 定义矩阵X\n",
    "X = np.array([[1,1,1,1,1,1,1],[0,1,2,3,4,5,6]])\n",
    "\n",
    "# 定义向量y\n",
    "y = np.array([27,26.8,26.5,26.3,26.1,25.7,25.3])\n",
    "\n",
    "XT=X.T\n",
    "\n",
    "\n",
    "A= np.matrix(np.dot(X,XT))\n",
    "\n",
    "# A=np.linalg.inv(A)\n",
    "# A=A** -1\n",
    "A=np.linalg.pinv(A)\n",
    "\n",
    "# 根据求参数公式theta = (X.T * X)^-1 * X.T * y求解\n",
    "Theta=np.dot(np.dot(A,X),y.T)\n",
    "#要仔细观察公式里面X,Y都是几乘几的矩阵，因为代入公式是，转置要做对\n",
    "print(Theta)\n",
    "#但是在这里求不出来，因为没有逆矩阵,但是可以用伪逆求\n",
    "#参考 https://blog.csdn.net/blackyuanc/article/details/69849023"
   ]
  },
  {
   "cell_type": "code",
   "execution_count": 24,
   "metadata": {},
   "outputs": [
    {
     "name": "stdout",
     "output_type": "stream",
     "text": [
      "[[7.]\n",
      " [6.]\n",
      " [2.]]\n",
      "虫 7.0\n",
      "钟 6.0\n",
      "花 2.0\n",
      "19.0\n"
     ]
    }
   ],
   "source": [
    "import numpy as np\n",
    "\n",
    "c=np.array([21,19,15]).reshape((3,1))\n",
    "# print(c)\n",
    "a=np.zeros((3,3))\n",
    "a[0]=[3,0,0]\n",
    "a[1]=[1,2,0]\n",
    "a[2]=[1,1,1]\n",
    "# print(a)\n",
    "a=np.linalg.inv(a)\n",
    "# print(a)\n",
    "\n",
    "b=np.dot(a,c)\n",
    "\n",
    "print(b)\n",
    "print(\"虫\",b[0][0])\n",
    "print(\"钟\",b[1][0])\n",
    "print(\"花\",b[2][0])\n",
    "print(b[0][0]+b[1][0]*b[2][0])\n"
   ]
  },
  {
   "cell_type": "code",
   "execution_count": null,
   "metadata": {},
   "outputs": [],
   "source": []
  }
 ],
 "metadata": {
  "kernelspec": {
   "display_name": "Python 3",
   "language": "python",
   "name": "python3"
  },
  "language_info": {
   "codemirror_mode": {
    "name": "ipython",
    "version": 3
   },
   "file_extension": ".py",
   "mimetype": "text/x-python",
   "name": "python",
   "nbconvert_exporter": "python",
   "pygments_lexer": "ipython3",
   "version": "3.8.3"
  }
 },
 "nbformat": 4,
 "nbformat_minor": 4
}
